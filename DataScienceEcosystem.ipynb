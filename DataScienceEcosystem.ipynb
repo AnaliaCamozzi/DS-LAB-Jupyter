{
 "cells": [
  {
   "cell_type": "markdown",
   "id": "b9c28c98-2af4-4c5c-828d-9e02ec430a83",
   "metadata": {},
   "source": [
    "## Data Science Tools and Ecosystem"
   ]
  },
  {
   "cell_type": "markdown",
   "id": "1d9e2df1-530c-4813-8bfc-e666be31d49b",
   "metadata": {},
   "source": [
    "In this notebook, Data Science Tools and Ecosystem are summarized."
   ]
  },
  {
   "cell_type": "markdown",
   "id": "1213c043-00b3-4785-ae29-5a2a2fba9b3d",
   "metadata": {},
   "source": [
    "__Objectives__"
   ]
  },
  {
   "cell_type": "markdown",
   "id": "fbe51d8b-10e6-40ae-bfa6-e0a9324379b9",
   "metadata": {},
   "source": [
    "* List popular languages for Data Science\n",
    "* List popular libraries for Data Science\n",
    "* List popular tools for Data Science"
   ]
  },
  {
   "cell_type": "markdown",
   "id": "052d9b83-19cf-4be0-abe3-b2cbd5417f39",
   "metadata": {},
   "source": [
    "Some of the popular languages that Data Scientists use are:\n",
    "1. Phython\n",
    "2. SQL\n",
    "3. R\n",
    "And much more"
   ]
  },
  {
   "cell_type": "markdown",
   "id": "da3b31e2-05c1-401e-ab7e-795485c1c7c8",
   "metadata": {},
   "source": [
    "Some of the commonly used libraries used by Data Scientists include:\n",
    "\n",
    "1. For Pyhton: pandas, matploblib, numpym, Scikyt-learn and much more\n",
    "2. For R: ggplot, dplyr, stringr, caret and much more\n",
    "    "
   ]
  },
  {
   "cell_type": "markdown",
   "id": "2066b9eb-531a-45e6-b1c7-8adbaa34d37c",
   "metadata": {},
   "source": [
    "|Data Science Tools|\n",
    "------\n",
    "|Jupiter Notebooks|\n",
    "|R Sutdio|\n",
    "|Pyhton| \n",
    "\n"
   ]
  },
  {
   "cell_type": "markdown",
   "id": "3c341b04-03f5-4d52-8358-52ef89a8b122",
   "metadata": {
    "tags": []
   },
   "source": [
    "### Below are a few examples of evaluating arithmetic expressions in Python"
   ]
  },
  {
   "cell_type": "code",
   "execution_count": 2,
   "id": "c3042673-2acd-47e9-b94a-cf2ebe9385f7",
   "metadata": {
    "tags": []
   },
   "outputs": [
    {
     "data": {
      "text/plain": [
       "4"
      ]
     },
     "execution_count": 2,
     "metadata": {},
     "output_type": "execute_result"
    }
   ],
   "source": [
    "2+2"
   ]
  },
  {
   "cell_type": "code",
   "execution_count": 3,
   "id": "d1de8b42-bb45-456c-bd3c-c487ffc74bd6",
   "metadata": {
    "tags": []
   },
   "outputs": [
    {
     "name": "stdout",
     "output_type": "stream",
     "text": [
      "3\n"
     ]
    }
   ],
   "source": [
    "a=1\n",
    "b=2\n",
    "c=a + b\n",
    "print(c)"
   ]
  },
  {
   "cell_type": "code",
   "execution_count": 4,
   "id": "c55cf60d-a49d-42fe-9f64-946139203714",
   "metadata": {
    "tags": []
   },
   "outputs": [
    {
     "data": {
      "text/plain": [
       "2"
      ]
     },
     "execution_count": 4,
     "metadata": {},
     "output_type": "execute_result"
    }
   ],
   "source": [
    "a*b"
   ]
  },
  {
   "cell_type": "code",
   "execution_count": 5,
   "id": "b4d7cb00-2a81-40d2-ae77-2a8b09cfe1b5",
   "metadata": {
    "tags": []
   },
   "outputs": [
    {
     "data": {
      "text/plain": [
       "1"
      ]
     },
     "execution_count": 5,
     "metadata": {},
     "output_type": "execute_result"
    }
   ],
   "source": [
    "a**b"
   ]
  },
  {
   "cell_type": "code",
   "execution_count": 7,
   "id": "4a74a3fc-ad7b-486c-bb37-a66b06d0d1cc",
   "metadata": {
    "tags": []
   },
   "outputs": [
    {
     "data": {
      "text/plain": [
       "2.0"
      ]
     },
     "execution_count": 7,
     "metadata": {},
     "output_type": "execute_result"
    }
   ],
   "source": [
    "b/a"
   ]
  },
  {
   "cell_type": "code",
   "execution_count": 8,
   "id": "174e7fcb-5142-4183-8195-b7c408a8355a",
   "metadata": {
    "tags": []
   },
   "outputs": [
    {
     "data": {
      "text/plain": [
       "2"
      ]
     },
     "execution_count": 8,
     "metadata": {},
     "output_type": "execute_result"
    }
   ],
   "source": [
    "b//a"
   ]
  },
  {
   "cell_type": "markdown",
   "id": "d1179154-266c-43fe-99bf-48cb0f1ea7c2",
   "metadata": {
    "tags": []
   },
   "source": [
    "This a simple arithmetic expression to mutiply then add integers"
   ]
  },
  {
   "cell_type": "code",
   "execution_count": 9,
   "id": "12dc7b85-a39e-44f9-abb2-5c15de862d1b",
   "metadata": {
    "tags": []
   },
   "outputs": [
    {
     "data": {
      "text/plain": [
       "17"
      ]
     },
     "execution_count": 9,
     "metadata": {},
     "output_type": "execute_result"
    }
   ],
   "source": [
    "(3*4)+5"
   ]
  },
  {
   "cell_type": "markdown",
   "id": "a5a85b65-3c99-4657-a873-97e87dcfe354",
   "metadata": {},
   "source": [
    "This will convert 200 minutes to hours by diving by 60"
   ]
  },
  {
   "cell_type": "code",
   "execution_count": 10,
   "id": "38b29aec-957a-4a21-ac69-80338d672324",
   "metadata": {
    "tags": []
   },
   "outputs": [
    {
     "data": {
      "text/plain": [
       "3.3333333333333335"
      ]
     },
     "execution_count": 10,
     "metadata": {},
     "output_type": "execute_result"
    }
   ],
   "source": [
    "200/60"
   ]
  },
  {
   "cell_type": "markdown",
   "id": "4275e946-96a4-4ce0-a6b1-7c8a5bd5a264",
   "metadata": {},
   "source": [
    "## Author"
   ]
  },
  {
   "cell_type": "markdown",
   "id": "c0c18d77-7159-47b6-8401-3d0606ab74e7",
   "metadata": {},
   "source": [
    "Analia Camozzi"
   ]
  },
  {
   "cell_type": "code",
   "execution_count": null,
   "id": "99d0e282-b9f4-4150-9f31-2ca8fcde4006",
   "metadata": {},
   "outputs": [],
   "source": []
  }
 ],
 "metadata": {
  "kernelspec": {
   "display_name": "Python",
   "language": "python",
   "name": "conda-env-python-py"
  },
  "language_info": {
   "codemirror_mode": {
    "name": "ipython",
    "version": 3
   },
   "file_extension": ".py",
   "mimetype": "text/x-python",
   "name": "python",
   "nbconvert_exporter": "python",
   "pygments_lexer": "ipython3",
   "version": "3.7.12"
  }
 },
 "nbformat": 4,
 "nbformat_minor": 5
}
